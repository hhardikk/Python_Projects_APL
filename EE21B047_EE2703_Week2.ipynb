{
 "cells": [
  {
   "cell_type": "markdown",
   "id": "5b45ec84",
   "metadata": {},
   "source": [
    "# Assignment\n",
    "\n",
    "The following are the problems you need to solve for this assignment.  You need to submit your code (either as standalone Python script or a Python notebook), a PDF document explaining your solution (either generated from the notebook or a separate LaTeX document), and any supporting files you may have (such as circuit netlists you used for testing your code).\n",
    "\n",
    "- Write a function to find the factorial of N (N being an input) and find the time taken to compute it.  This will obviously depend on where you run the code and which approach you use to implement the factorial.  Explain your observations briefly.\n",
    "- Write a linear equation solver that will take in matrices $A$ and $b$ as inputs, and return the vector $x$ that solves the equation $Ax=b$.  Your function should catch errors in the inputs and return suitable error messages for different possible problems.\n",
    "  - Time your solver to solve a random $10\\times 10$ system of equations.  Compare the time taken against the `numpy.linalg.solve` function for the same inputs.\n",
    "- Given a circuit netlist in the form described above, read it in from a file, construct the appropriate matrices, and use the solver you have written above to obtain the voltages and currents in the circuit.  If you find AC circuits hard to handle, first do this for pure DC circuits, but you should be able to handle both voltage and current sources.\n",
    "\n",
    "## Bonus assignments\n",
    "\n",
    "- (Small bonus): after reading in the netlist, allow some or all sources and impedances to be controlled interactively - either using widgets or other mechanisms.  On each change you should recompute the currents and voltages and display them.\n",
    "- (Large bonus): make a solver that can do real-time transient simulations of a SPICE netlist and update the currents and voltages dynamically.  They should also be plotted as a function of time and react to changes.  This is something along the lines of https://www.falstad.com/circuit/.  Ideally you should be able to do a real-time demo of some experiments you might conduct as part of a basic electronics lab, and simulate the behaviour of an oscilloscope and signal generator."
   ]
  },
  {
   "cell_type": "markdown",
   "id": "f5e40524",
   "metadata": {},
   "source": [
    "# Factorial"
   ]
  },
  {
   "cell_type": "code",
   "execution_count": 652,
   "id": "b51fb724",
   "metadata": {},
   "outputs": [
    {
     "name": "stdout",
     "output_type": "stream",
     "text": [
      "40320\n",
      "563 ns ± 2.79 ns per loop (mean ± std. dev. of 7 runs, 1,000,000 loops each)\n"
     ]
    }
   ],
   "source": [
    "import numpy as np\n",
    "\n",
    "def fac(x):\n",
    "    fact = 1\n",
    "    for i in range(x):\n",
    "        fact *= i+1\n",
    "        \n",
    "    return fact\n",
    "\n",
    "print(fac(8))\n",
    "%timeit fac(8)"
   ]
  },
  {
   "cell_type": "markdown",
   "id": "93a7b794",
   "metadata": {},
   "source": [
    "Here I used a for loop to calculate factorial of a number."
   ]
  },
  {
   "cell_type": "code",
   "execution_count": 653,
   "id": "13c16a9a",
   "metadata": {
    "scrolled": true
   },
   "outputs": [
    {
     "name": "stdout",
     "output_type": "stream",
     "text": [
      "40320\n",
      "752 ns ± 2.08 ns per loop (mean ± std. dev. of 7 runs, 1,000,000 loops each)\n"
     ]
    }
   ],
   "source": [
    "def fac_recursion(n):\n",
    "    if n == 1:\n",
    "        return 1\n",
    "    else:\n",
    "        return n*fac_recursion(n-1)\n",
    "    \n",
    "print(fac_recursion(8))\n",
    "%timeit fac_recursion(8)"
   ]
  },
  {
   "cell_type": "markdown",
   "id": "493eb39d",
   "metadata": {},
   "source": [
    "Here I used recursion to solve for factorial of a given number and it can be seen that recursion takes longer time than normal for loop. This is because in recursion the function is called multiple times, always creating a new set of variables and return address and therefore slowing the process of calculating factorial."
   ]
  },
  {
   "cell_type": "markdown",
   "id": "a1408253",
   "metadata": {},
   "source": [
    "# Linear Equation Solver"
   ]
  },
  {
   "cell_type": "code",
   "execution_count": 654,
   "id": "0f554434",
   "metadata": {},
   "outputs": [],
   "source": [
    "def alignment_of_rows(A, B):\n",
    "    n = len(B)\n",
    "    \n",
    "    for i in range(n):\n",
    "        pivot = i\n",
    "        for j in range(i + 1, n):\n",
    "            if abs(A[j][i]) > abs(A[pivot][i]):\n",
    "                pivot = j\n",
    "        A[i], A[pivot] = A[pivot], A[i]\n",
    "        B[i], B[pivot] = B[pivot], B[i]\n",
    "        \n",
    "    return A, B"
   ]
  },
  {
   "cell_type": "markdown",
   "id": "92d26751",
   "metadata": {},
   "source": [
    "The function \"alignment of rows\" in this code aligns the rows of two matrices, `A` and `B`, using the absolute values of their constituent elements in the first matrix. \n",
    "\n",
    "The first step of the function is to identify the row in the first matrix's column I that has the highest absolute value. Then, in both matrices, this row is switched with row i. For each row in the matrix, this operation is repeated."
   ]
  },
  {
   "cell_type": "code",
   "execution_count": 655,
   "id": "35d1c78f",
   "metadata": {},
   "outputs": [],
   "source": [
    "def upper_triangular(A, B):\n",
    "    n = len(B)\n",
    "\n",
    "    for k in range(n-1):\n",
    "        for i in range(k+1, n):\n",
    "            norm = A[i][k]/A[k][k]\n",
    "            for j in range(k, n):\n",
    "                A[i][j] -= norm*A[k][j]\n",
    "            B[i] -= norm*B[k]\n",
    "    return A, B"
   ]
  },
  {
   "cell_type": "markdown",
   "id": "e5731818",
   "metadata": {},
   "source": [
    "The \"upper_triangular\" function takes in two matrices, `A` and `B`, and converts them to an upper triangular form. \n",
    "\n",
    "It does this by looping over all the rows (except the last row), calculating a normalization factor, and updating the elements in the current row and the vector B based on the normalization factor and the corresponding elements in a different row."
   ]
  },
  {
   "cell_type": "code",
   "execution_count": 656,
   "id": "ecefd89a",
   "metadata": {},
   "outputs": [],
   "source": [
    "def back_substitution(A, B):\n",
    "\n",
    "    n = len(B)\n",
    "    for i in range(n):\n",
    "        if(A[i][i]==0):\n",
    "            if(B[i]==0):\n",
    "                print(\"The given system of equations has infinte number of solutions\")\n",
    "                return\n",
    "            else:\n",
    "                print(\"The given system of equations has no solutions\")\n",
    "                return\n",
    "                  \n",
    "    X = np.zeros(n)\n",
    "    for i in range(n-1, -1, -1):\n",
    "        X[i] = B[i]\n",
    "        for j in range(i+1, n):\n",
    "            X[i] -= A[i][j]*X[j]\n",
    "        X[i] /= A[i][i]\n",
    "\n",
    "    return X"
   ]
  },
  {
   "cell_type": "markdown",
   "id": "9f5402d3",
   "metadata": {},
   "source": [
    "The \"back substitution\" function in this code employs two matrices, `A` and `B`, to solve a system of linear equations. \n",
    "\n",
    "The first thing the function does is determine whether the diagonal elements of the matrix A are zero. The function writes \"The provided system of equations has infinte number of solutions\" if they are all zero and the elements of the vector B are likewise zero. The function prints \"The provided system of equations has no solutions\" if any of the diagonal elements of A are zero and the corresponding element in B is non-zero.\n",
    "\n",
    "After initialising an array X with zeros, the function solves the system of linear equations represented by A and B using back substitution. "
   ]
  },
  {
   "cell_type": "code",
   "execution_count": 657,
   "id": "6e3fc21a",
   "metadata": {},
   "outputs": [],
   "source": [
    "def gauss_elimination(A, B):\n",
    "    A, B = alignment_of_rows(A, B)\n",
    "    A, B = upper_triangular(A, B)\n",
    "    Solution = back_substitution(A, B)\n",
    "    return Solution"
   ]
  },
  {
   "cell_type": "markdown",
   "id": "a9326ae6",
   "metadata": {},
   "source": [
    "Finally creating a function with combination of all the functions defined above to ease the process of getting the solution."
   ]
  },
  {
   "cell_type": "code",
   "execution_count": 658,
   "id": "c4266068",
   "metadata": {},
   "outputs": [],
   "source": [
    "def exceptions(A, B):\n",
    "    try:\n",
    "        if len(A) != len(A[0]):\n",
    "            raise ValueError(\"Matrix A must be a square matrix.\")\n",
    "        \n",
    "        if len(B) != len(A):\n",
    "            raise ValueError(\"The number of rows in matrix A should be equal to the number of elements in Matrix b.\")\n",
    "            \n",
    "        for i in range(len(A)):\n",
    "            for j in range(len(A[0])):\n",
    "                if (type(A[i][j]) != float) and (type(A[i][j]) != int):\n",
    "                    raise ValueError(\"The data entered has wrong Data Type! Please check the input data again\")\n",
    "                    \n",
    "        for i in range(len(B)):\n",
    "            if (type(B[i]) != float) and (type(B[i]) != int):\n",
    "                raise ValueError(\"The data entered has wrong Data Type! Please check the input data again\")\n",
    "            \n",
    "        Solution = gauss_elimination(A, B)\n",
    "        return Solution\n",
    "        \n",
    "    except ValueError as err:\n",
    "        print(err)"
   ]
  },
  {
   "cell_type": "markdown",
   "id": "6243ecf2",
   "metadata": {},
   "source": [
    "The `Exceptions` function is designed to look for any errors that might be present in the provided data. Before passing matrices A and B to the `gauss_elimination` function, the function `exceptions` verifies their validity. It checks that matrix A is square, that the number of rows in A equals the number of elements in B, and that all elements in both matrices are of type float or int. \n",
    "\n",
    "If any of these conditions is not met, a `ValueError` with an appropriate error message is raised and printed. If all conditions are met, the function returns the \"gauss elimination\" solution."
   ]
  },
  {
   "cell_type": "code",
   "execution_count": 659,
   "id": "ff6a9a11",
   "metadata": {},
   "outputs": [
    {
     "name": "stdout",
     "output_type": "stream",
     "text": [
      "The solution for the system of equations using gaussian elimination is [-1.19822485  0.52810651  1.12278107]\n",
      "8.5 µs ± 18.9 ns per loop (mean ± std. dev. of 7 runs, 100,000 loops each)\n",
      "\n",
      "The solution for the system of equations using default numpy function is [-1.19822485  0.52810651  1.12278107]\n",
      "5.22 µs ± 6.96 ns per loop (mean ± std. dev. of 7 runs, 100,000 loops each)\n"
     ]
    }
   ],
   "source": [
    "#Sample Example\n",
    "A = [[1, 3, 5],\n",
    "    [4,2, 6],\n",
    "    [14,41,1]]\n",
    "\n",
    "B = [6,3, 6]\n",
    "\n",
    "X = exceptions(A, B)\n",
    "print(f\"The solution for the system of equations using gaussian elimination is {X}\")\n",
    "%timeit exceptions(A, B)\n",
    "\n",
    "X = np.linalg.solve(A, B)\n",
    "print(f\"\\nThe solution for the system of equations using default numpy function is {X}\")\n",
    "%timeit np.linalg.solve(A, B)"
   ]
  },
  {
   "cell_type": "markdown",
   "id": "f9af7a4e",
   "metadata": {},
   "source": [
    "The default function of numpy run's faster than the gaussian elimination code implemented here.\n",
    "\n",
    "Because it uses highly optimised and makes use of potent linear algebra libraries, the default numpy function to solve a matrix solves it significantly more quickly than a customised Gaussian elimination code. "
   ]
  },
  {
   "cell_type": "code",
   "execution_count": 660,
   "id": "4de0efc8",
   "metadata": {},
   "outputs": [
    {
     "name": "stdout",
     "output_type": "stream",
     "text": [
      "The solution for the system of equations using gaussian elimination is\n",
      " [  8.87906559 -43.46161612   4.54443637  14.01387088  19.32434573\n",
      "   1.75713264  -3.42654656  19.56190346 -13.9096041   -3.04002794]\n",
      "80.6 µs ± 169 ns per loop (mean ± std. dev. of 7 runs, 10,000 loops each)\n",
      "\n",
      "The solution for the system of equations using default numpy function is\n",
      " [  8.87906559 -43.46161612   4.54443637  14.01387088  19.32434573\n",
      "   1.75713264  -3.42654656  19.56190346 -13.9096041   -3.04002794]\n",
      "23.6 µs ± 2.39 µs per loop (mean ± std. dev. of 7 runs, 10,000 loops each)\n"
     ]
    }
   ],
   "source": [
    "a = np.random.rand(10,10)*10 #Creating a 10 by 10 numpy array\n",
    "b = np.random.rand(10)*100 #Creating a 10 by 1 numpy array\n",
    "\n",
    "a = a.tolist() #Converting numpy array to list matrix for ease in calculation\n",
    "b = b.tolist()\n",
    "\n",
    "X = exceptions(a, b)\n",
    "print(f\"The solution for the system of equations using gaussian elimination is\\n {X}\")\n",
    "%timeit exceptions(a, b)\n",
    "\n",
    "X = np.linalg.solve(a, b)\n",
    "print(f\"\\nThe solution for the system of equations using default numpy function is\\n {X}\")\n",
    "%timeit np.linalg.solve(a, b)"
   ]
  },
  {
   "cell_type": "code",
   "execution_count": 661,
   "id": "f6e24fc1",
   "metadata": {},
   "outputs": [
    {
     "name": "stdout",
     "output_type": "stream",
     "text": [
      "The solution for the system of equations using gaussian elimination is\n",
      " [-22.57379302   8.7542978   -3.53603603   6.15463231   8.51558615\n",
      "  -8.42795987  18.51275045   8.02907834   2.72022477  -9.7627865 ]\n",
      "72.9 µs ± 113 ns per loop (mean ± std. dev. of 7 runs, 10,000 loops each)\n",
      "\n",
      "The solution for the system of equations using default numpy function is\n",
      " [-22.57379302   8.7542978   -3.53603603   6.15463231   8.51558615\n",
      "  -8.42795987  18.51275045   8.02907834   2.72022477  -9.7627865 ]\n",
      "25.8 µs ± 2.95 µs per loop (mean ± std. dev. of 7 runs, 10,000 loops each)\n"
     ]
    }
   ],
   "source": [
    "import random\n",
    "import time\n",
    "\n",
    "a = 10\n",
    "Random_list = random.sample(range(1, 101), a*a)\n",
    "B = random.sample(range(101, 1010), a)\n",
    "\n",
    "Col_Dim = a\n",
    "Row_Dim = len(Random_list) // Col_Dim\n",
    "\n",
    "A = [Random_list[i:i + Col_Dim] for i in range(0, len(Random_list), Col_Dim)]\n",
    "\n",
    "X = exceptions(A, B)\n",
    "print(f\"The solution for the system of equations using gaussian elimination is\\n {X}\")\n",
    "%timeit gauss_elimination(A, B)\n",
    "\n",
    "X = np.linalg.solve(A, B)\n",
    "print(f\"\\nThe solution for the system of equations using default numpy function is\\n {X}\")\n",
    "%timeit np.linalg.solve(A, B)"
   ]
  },
  {
   "cell_type": "markdown",
   "id": "fb8fc0bc",
   "metadata": {},
   "source": [
    "This is an additional list-based matrix creation method. This code and the code above are identical apart from this."
   ]
  },
  {
   "cell_type": "markdown",
   "id": "4769147c",
   "metadata": {},
   "source": [
    "# Netlist Circuit Solver"
   ]
  },
  {
   "cell_type": "raw",
   "id": "1c4a6e29",
   "metadata": {},
   "source": [
    "DC Circuit Solver"
   ]
  },
  {
   "cell_type": "code",
   "execution_count": 716,
   "id": "4c02f55d",
   "metadata": {},
   "outputs": [],
   "source": [
    "def read_netlist(filename):\n",
    "    \n",
    "    #Opening the file and reading it line wise\n",
    "    with open(filename, 'r') as f:\n",
    "        lines = f.readlines()\n",
    "        \n",
    "    components = [] #Initialising an empty list to store the components.\n",
    "    nodes = set()\n",
    "    for line in lines:\n",
    "        if line.strip() != \"\": #Processes data only when line is not blank, else ignores\n",
    "            line = line.strip().split() #Splits the line into a list of elements and remove whitespaces.\n",
    "\n",
    "            #If it's a resistor, append a tuple with component type, node1, node2, and resistance value to the components list.\n",
    "            if line[0][0] == 'R':\n",
    "                components.append(('R', (line[1]), (line[2]), (line[3])))\n",
    "                nodes.update([(line[1]), (line[2])]) #Adding node1 and node2 to the nodes set.\n",
    "\n",
    "            #If it's a voltage source, append a tuple with component type, node1, node2, and voltage value to the components list.    \n",
    "            elif line[0][0] == 'V':\n",
    "                components.append(('V', (line[1]), (line[2]), (line[4])))\n",
    "                nodes.update([(line[1]), (line[2])]) #Adding node1 and node2 to the nodes set.\n",
    "\n",
    "            #If it's a current source, append a tuple with component type, node1, node2, and current value to the components list.\n",
    "            elif line[0][0] == 'I':\n",
    "                components.append(('I', (line[1]), (line[2]), (line[4])))\n",
    "                nodes.update([(line[1]), (line[2])]) #Adding node1 and node2 to the nodes set.\n",
    "            \n",
    "    nodes = list(nodes) #Converting the node set to a list\n",
    "    nodes.remove('GND') #Removing Ground as a node\n",
    "    node_dict = {nodes[i]: i for i in range(len(nodes))} #Mapping the nodes to a dictionary to avoid different namings of nodes\n",
    "    \n",
    "    print(f\"The components in this circuit are: {components}\")\n",
    "    print(f\"\\nThe nodes in this circuit are: {nodes}\")\n",
    "    print(f\"\\nThe mapping of nodes is done by: {node_dict}\")\n",
    "    return components, nodes, node_dict"
   ]
  },
  {
   "cell_type": "markdown",
   "id": "ca940f74",
   "metadata": {},
   "source": [
    "The read_netlist function reads a file containing circuit information and returns a list of components, a list of nodes, and a dictionary mapping each node to a unique integer. \n",
    "\n",
    "The file is read and processed line by line, with each line added to the components list as a tuple if it describes a component (R, V, or I). The nodes used in the component are added to the nodes set and the node_dict dictionary maps each node to a unique integer. The function then prints the information and returns the components, nodes, and node_dict variables."
   ]
  },
  {
   "cell_type": "code",
   "execution_count": 717,
   "id": "58c2cdc1",
   "metadata": {},
   "outputs": [],
   "source": [
    "def matrix_dim(components, nodes):\n",
    "    dim = len(nodes)\n",
    "    for component in components:\n",
    "        if component[0] == 'V':\n",
    "            dim += 1\n",
    "    \n",
    "    print(f\"\\nThe dimension of matrix A is {dim}\\n\")\n",
    "    \n",
    "    A = np.zeros((dim, dim))\n",
    "    A = A.tolist()\n",
    "    \n",
    "    B = np.zeros(dim)\n",
    "    B = B.tolist()\n",
    "    \n",
    "    X = np.zeros(dim)\n",
    "    X = X.tolist()\n",
    "    \n",
    "    return dim, A, B, X"
   ]
  },
  {
   "cell_type": "markdown",
   "id": "01d6207d",
   "metadata": {},
   "source": [
    "This code defines a function matrix_dim that takes in two arguments: components and nodes. \n",
    "\n",
    "This function is designed to define matrix dimensions and creating them. Dimension is defined as the number of nodes + the number of independent voltage sources present in the circuit. \n",
    "\n",
    "After obtaining the dimension, I create numpy arrays A, B, and X with the necessary dimensions and convert them to lists to facilitate matrix calculations."
   ]
  },
  {
   "cell_type": "code",
   "execution_count": 718,
   "id": "6e39c2ca",
   "metadata": {},
   "outputs": [],
   "source": [
    "def construct_matrices(dim, A, B, X, components, node_dict):\n",
    "    for component in components:\n",
    "        if component[0] == 'R':\n",
    "            if component[1] != 'GND':\n",
    "                i = node_dict[component[1]]\n",
    "            if component[2] != 'GND':\n",
    "                j = node_dict[component[2]]\n",
    "            value = float(component[3])\n",
    "            if component[1] != 'GND':\n",
    "                A[i][i] += 1/value\n",
    "            if component[1] != 'GND' and component[2] != 'GND':\n",
    "                A[i][j] -= 1/value\n",
    "                A[j][i] -= 1/value\n",
    "            if component[2] != 'GND':\n",
    "                A[j][j] += 1/value\n",
    "            \n",
    "        elif component[0] == 'V':\n",
    "            \n",
    "            if component[1] != 'GND':\n",
    "                i = node_dict[component[1]]\n",
    "            if component[2] != 'GND':\n",
    "                j = node_dict[component[2]]\n",
    "            value = float(component[3])\n",
    "            if component[1] != 'GND':\n",
    "                A[i][dim-1] -= 1\n",
    "                A[dim-1][i] += 1\n",
    "            if component[2] != 'GND':\n",
    "                A[j][dim-1] += 1\n",
    "                A[dim-1][j] -= 1  \n",
    "            B[dim-1] += value\n",
    "            \n",
    "        elif component[0] == 'I':\n",
    "            if component[1] != 'GND':\n",
    "                i = node_dict[component[1]]\n",
    "            if component[2] != 'GND':\n",
    "                j = node_dict[component[2]]\n",
    "            value = float(component[3])\n",
    "            if component[2] != 'GND':\n",
    "                B[j] -= value\n",
    "            if component[1] != 'GND':\n",
    "                B[i] += value\n",
    "            \n",
    "    return A, B"
   ]
  },
  {
   "cell_type": "markdown",
   "id": "314154a4",
   "metadata": {},
   "source": [
    "This code defines the construct matrices function, which accepts five arguments: `dim`, `A`, `B`, `X`, `components`, and `node dict`. \n",
    "\n",
    "The function iterates through the component list, modifying the A and B matrices based on the component type (R for resistor, V for voltage source, I for current source). The `node_dict` dictionary is used to obtain the mapping of nodes to indices in the matrices.\n",
    "\n",
    "The function updates the elements of the A matrix for a resistor component based on its resistance value and the nodes it connects. If one of the nodes is connected to `GND` (ground), I am ignoring it.\n",
    "\n",
    "In similar way the Voltage and Current components are treated in order to generate a Modified Nodal Analysis matrix at the end. Keeping this in mind, all of the values in the matrix are updated."
   ]
  },
  {
   "cell_type": "code",
   "execution_count": 719,
   "id": "1f60902c",
   "metadata": {},
   "outputs": [],
   "source": [
    "def final(filename):\n",
    "    comp, node, node_dict = read_netlist(filename)\n",
    "    inv_dict = dict(zip(node_dict.values(), node_dict.keys()))\n",
    "    dim, A, B, X = matrix_dim(comp, node)\n",
    "    A_final, B_final = construct_matrices(dim, A, B, X, comp, node_dict)\n",
    "    X = exceptions(A_final, B_final)\n",
    "    \n",
    "    dim_virtual = 0\n",
    "    for i in inv_dict:\n",
    "        node_iterate = inv_dict[i]\n",
    "        dim_virtual += 1\n",
    "        print(f\"The voltage at node {node_iterate} is {X[i]}\")\n",
    "        \n",
    "    for i in range(dim_virtual, dim):\n",
    "        print(f\"The current through the voltage source {i-dim_virtual+1} is {X[dim_virtual]}\")\n",
    "        dim_virtual += 1\n",
    "    \n",
    "    print(\"\\n\")\n",
    "    return X"
   ]
  },
  {
   "cell_type": "markdown",
   "id": "b1e9b471",
   "metadata": {},
   "source": [
    "This code defines a function `final` that accepts one argument: `filename`, which is the name of a file containing a network description in the format specified. \n",
    "\n",
    "The function first calls `read_netlist` to read the file's `components`, `nodes`, and `node-index mapping`. It also uses the `inv_dict` dictionary to create an inverse mapping from indices to nodes. \n",
    "\n",
    "The function then calls `matrix_dim` to compute the dimensions of the matrices `A`, `B`, and `X`. The function then invokes `construct_matrices` to update the matrices based on the network components.\n",
    "\n",
    "The function then calls exceptions on the final matrices `A_final` and `B_final` to solve for the solution matrix `X`.\n",
    "\n",
    "Finally, I am iterating through the network's nodes and voltage sources, printing the voltage or current at each node or voltage source. The output is the final values of the vector X, which represents the network's voltages at nodes and controlling currents through independent voltage sources."
   ]
  },
  {
   "cell_type": "raw",
   "id": "54dc87fd",
   "metadata": {},
   "source": [
    "AC Circuit Solver"
   ]
  },
  {
   "cell_type": "code",
   "execution_count": 720,
   "id": "992ee827",
   "metadata": {},
   "outputs": [],
   "source": [
    "def read_netlist_AC(filename):\n",
    "    with open(filename, 'r') as f:\n",
    "        lines = f.readlines()\n",
    "    components = []\n",
    "    nodes = set()\n",
    "    frequency = 0\n",
    "    \n",
    "    for line in lines:\n",
    "        if line.strip() != \"\":\n",
    "            line = line.strip().split()\n",
    "            if line[0] == '.ac':\n",
    "                frequency += float(line[2])\n",
    "            if line[0][0] == 'R':\n",
    "                components.append(('R', (line[1]), (line[2]), (line[3])))\n",
    "                nodes.update([(line[1]), (line[2])])\n",
    "            elif line[0][0] == 'V':\n",
    "                if line[3] == 'ac':\n",
    "                    components.append(('V', (line[1]), (line[2]), (line[3]), (line[4]), (line[5])))\n",
    "                    nodes.update([(line[1]), (line[2])])\n",
    "                else:\n",
    "                    components.append(('V', (line[1]), (line[2]), (line[3]), (line[4])))\n",
    "                    nodes.update([(line[1]), (line[2])])\n",
    "            elif line[0][0] == 'I':\n",
    "                if line[3] == 'ac':\n",
    "                    components.append(('I', (line[1]), (line[2]), (line[3]), (line[4]), (line[5])))\n",
    "                    nodes.update([(line[1]), (line[2])])\n",
    "                else:\n",
    "                    components.append(('I', (line[1]), (line[2]), (line[3]), (line[4])))\n",
    "                    nodes.update([(line[1]), (line[2])])\n",
    "            elif line[0][0] == 'C':\n",
    "                components.append(('C', (line[1]), (line[2]), (line[3])))\n",
    "                nodes.update([(line[1]), (line[2])])\n",
    "            elif line[0][0] == 'L':\n",
    "                components.append(('L', (line[1]), (line[2]), (line[3])))\n",
    "                nodes.update([(line[1]), (line[2])])\n",
    "            \n",
    "    nodes = list(nodes)\n",
    "    nodes.remove('GND')\n",
    "    node_dict = {nodes[i]: i for i in range(len(nodes))}\n",
    "    \n",
    "    print(f\"The components in this circuit are: {components}\")\n",
    "    print(f\"\\nThe nodes in this circuit are: {nodes}\")\n",
    "    print(f\"\\nThe mapping of nodes is done by: {node_dict}\")\n",
    "    print(f\"\\nThe frequency with which the AC source is operating is {frequency}\")\n",
    "    return components, nodes, node_dict, frequency"
   ]
  },
  {
   "cell_type": "markdown",
   "id": "e97172fe",
   "metadata": {},
   "source": [
    "This function is defined in the same way as the DC circuit function in that it reads a file containing circuit information and returns a list of components, a list of nodes, and a dictionary mapping each node to a unique integer. \n",
    "\n",
    "But the difference here is that I am reading out frequency from the given netlist circuit and, in addition to components R (Resistor), V (Voltage source), I (Current source), I have also defined and updated 'Capacitor' '(C)' and 'Inductor' '(L)' in the components and nodes list."
   ]
  },
  {
   "cell_type": "code",
   "execution_count": 721,
   "id": "e37086e6",
   "metadata": {},
   "outputs": [],
   "source": [
    "def matrix_dim_AC(components, nodes, node_dict):\n",
    "    dim = len(nodes)\n",
    "    for component in components:\n",
    "        if component[0] == 'V':\n",
    "            dim += 1\n",
    "    \n",
    "    print(f\"\\nThe dimension of matrix A is {dim}\\n\")\n",
    "    \n",
    "    A = np.zeros((dim, dim))\n",
    "    A = A.tolist()\n",
    "    \n",
    "    B = np.zeros(dim)\n",
    "    B = B.tolist()\n",
    "    \n",
    "    X = np.zeros(dim)\n",
    "    X = X.tolist()\n",
    "    \n",
    "    return dim, A, B, X"
   ]
  },
  {
   "cell_type": "markdown",
   "id": "7a7caadf",
   "metadata": {},
   "source": [
    "Again, as in DC, this function calculates the required dimension of the matrix and thus defines the matrix with the corresponding dimensions. \n",
    "\n",
    "Dimension is defined as the number of nodes + the number of independent voltage sources."
   ]
  },
  {
   "cell_type": "code",
   "execution_count": 722,
   "id": "ead1c733",
   "metadata": {},
   "outputs": [],
   "source": [
    "import cmath\n",
    "\n",
    "def complex_number(mag, phase):\n",
    "    z = cmath.rect(mag, phase * cmath.pi / 180)\n",
    "    return z"
   ]
  },
  {
   "cell_type": "markdown",
   "id": "6e68924f",
   "metadata": {},
   "source": [
    "I defined a function `complex number` which uses the cmath module's rect() method to convert magnitude and phase arguments into a complex number. Before passing the phase to the rect() method, which returns the corresponding complex number, it is converted from degrees to radians. This generated complex number is returned by the function."
   ]
  },
  {
   "cell_type": "code",
   "execution_count": 723,
   "id": "1ab33060",
   "metadata": {},
   "outputs": [],
   "source": [
    "def Inductor_impedence(value, frequency):\n",
    "    mag = value*2*cmath.pi*frequency\n",
    "    phase = 90\n",
    "    X_L = complex_number(mag, phase)\n",
    "    return X_L"
   ]
  },
  {
   "cell_type": "markdown",
   "id": "1403a4bc",
   "metadata": {},
   "source": [
    "The `Inductor_impedence` function is used to calculate the Impedance of the respective Inductor. It takes in two arguments: `value` = inductor value, `frequency` = frequency at which the AC circuit is operated, and calculates and returns the inductor's impedance."
   ]
  },
  {
   "cell_type": "code",
   "execution_count": 724,
   "id": "d086e029",
   "metadata": {},
   "outputs": [],
   "source": [
    "def Capacitor_impedence(value, frequency):\n",
    "    mag = 1/(value*2*cmath.pi*frequency)\n",
    "    phase = -90\n",
    "    X_C = complex_number(mag, phase)\n",
    "    return X_C"
   ]
  },
  {
   "cell_type": "markdown",
   "id": "8ae018e0",
   "metadata": {},
   "source": [
    "The `Capacitor_impedence` function is used to calculate the Impedance of the respective Capacitor. It takes in two arguments: `value` = capacitor's value, `frequency` = frequency at which the AC circuit is operated, and calculates and returns the capacitor's impedance."
   ]
  },
  {
   "cell_type": "code",
   "execution_count": 725,
   "id": "1c718b80",
   "metadata": {},
   "outputs": [],
   "source": [
    "def construct_matrices_AC(dim, A, B, X, components, node_dict, frequency):\n",
    "    \n",
    "    Both_AC = 0\n",
    "    Both_DC = 0\n",
    "    \n",
    "    for component in components:\n",
    "        if component[0] == 'R':\n",
    "            if component[1] != 'GND':\n",
    "                i = node_dict[component[1]]\n",
    "            if component[2] != 'GND':\n",
    "                j = node_dict[component[2]]\n",
    "            value = float(component[3])\n",
    "            if component[1] != 'GND':\n",
    "                A[i][i] += 1/value\n",
    "            if component[1] != 'GND' and component[2] != 'GND':\n",
    "                A[i][j] -= 1/value\n",
    "                A[j][i] -= 1/value\n",
    "            if component[2] != 'GND':\n",
    "                A[j][j] += 1/value\n",
    "            \n",
    "        elif component[0] == 'V' and component[3] == 'dc':\n",
    "            Both_DC += 1\n",
    "            if component[1] != 'GND':\n",
    "                i = node_dict[component[1]]\n",
    "            if component[2] != 'GND':\n",
    "                j = node_dict[component[2]]\n",
    "            value = float(component[4])\n",
    "            if component[1] != 'GND':\n",
    "                A[i][dim-1] -= 1\n",
    "                A[dim-1][i] += 1\n",
    "            if component[2] != 'GND':\n",
    "                A[j][dim-1] += 1\n",
    "                A[dim-1][j] -= 1  \n",
    "            B[dim-1] += value\n",
    "            \n",
    "        elif component[0] == 'V' and component[3] == 'ac':\n",
    "            Both_AC += 1\n",
    "            if component[1] != 'GND':\n",
    "                i = node_dict[component[1]]\n",
    "            if component[2] != 'GND':\n",
    "                j = node_dict[component[2]]\n",
    "            magnitude = float(component[4])\n",
    "            phase = float(component[5])\n",
    "            value = complex_number(magnitude, phase)\n",
    "            if component[1] != 'GND':\n",
    "                A[i][dim-1] -= 1\n",
    "                A[dim-1][i] += 1\n",
    "            if component[2] != 'GND':\n",
    "                A[j][dim-1] += 1\n",
    "                A[dim-1][j] -= 1  \n",
    "            B[dim-1] += value\n",
    "            \n",
    "        elif component[0] == 'I' and component[3] == 'dc':\n",
    "            if component[1] != 'GND':\n",
    "                i = node_dict[component[1]]\n",
    "            if component[2] != 'GND':\n",
    "                j = node_dict[component[2]]\n",
    "            value = float(component[4])\n",
    "            if component[2] != 'GND':\n",
    "                B[j] -= value\n",
    "            if component[1] != 'GND':\n",
    "                B[i] += value\n",
    "            \n",
    "        elif component[0] == 'I' and component[3] == 'ac':\n",
    "            if component[1] != 'GND':\n",
    "                i = node_dict[component[1]]\n",
    "            if component[2] != 'GND':\n",
    "                j = node_dict[component[2]]\n",
    "            magnitude = float(component[4])\n",
    "            phase = float(component[5])\n",
    "            value = complex_number(magnitude, phase)\n",
    "            if component[2] != 'GND':\n",
    "                B[j] -= value\n",
    "            if component[1] != 'GND':\n",
    "                B[i] += value\n",
    "                \n",
    "        elif component[0] == 'C':\n",
    "            if component[1] != 'GND':\n",
    "                i = node_dict[component[1]]\n",
    "            if component[2] != 'GND':\n",
    "                j = node_dict[component[2]]\n",
    "            Cap = float(component[3])\n",
    "            value = Capacitor_impedence(Cap, frequency)\n",
    "            if component[1] != 'GND':\n",
    "                A[i][i] += 1/value\n",
    "            if component[1] != 'GND' and component[2] != 'GND':\n",
    "                A[i][j] -= 1/value\n",
    "                A[j][i] -= 1/value\n",
    "            if component[2] != 'GND':\n",
    "                A[j][j] += 1/value\n",
    "                \n",
    "        elif component[0] == 'L':\n",
    "            if component[1] != 'GND':\n",
    "                i = node_dict[component[1]]\n",
    "            if component[2] != 'GND':\n",
    "                j = node_dict[component[2]]\n",
    "            Ind = float(component[3])\n",
    "            value = Inductor_impedence(Ind, frequency)\n",
    "            if component[1] != 'GND':\n",
    "                A[i][i] += 1/value\n",
    "            if component[1] != 'GND' and component[2] != 'GND':\n",
    "                A[i][j] -= 1/value\n",
    "                A[j][i] -= 1/value\n",
    "            if component[2] != 'GND':\n",
    "                A[j][j] += 1/value\n",
    "                \n",
    "    return A, B, Both_DC, Both_AC"
   ]
  },
  {
   "cell_type": "markdown",
   "id": "a515f6f1",
   "metadata": {},
   "source": [
    "This function takes the following arguments: `dim`, matrices `A`, `B`, and `X`, `components`, `node dict`, and the `frequency` at which the circuit is stimulated. \n",
    "\n",
    "The function modifies the values of A, B, and X for each component in components to reflect the component's behaviour in the electrical circuit. A resistor, capacitor, inductor, DC voltage or current source, or AC voltage or current source can be used as the component. The `Capacitor_impedence` and `Inductor_impedence` functions are used to calculate the impedance of a capacitor and an inductor, respectively. The `complex_number` function is used to combine the magnitude and phase of an AC voltage and current source into a complex number."
   ]
  },
  {
   "cell_type": "code",
   "execution_count": 748,
   "id": "a45cec1f",
   "metadata": {},
   "outputs": [],
   "source": [
    "def final_AC(filename):\n",
    "    comp, node, node_dict, freq = read_netlist_AC(filename)\n",
    "    inv_dict = dict(zip(node_dict.values(), node_dict.keys()))\n",
    "    dim, A, B, X = matrix_dim_AC(comp, node, node_dict)\n",
    "    A_final, B_final, DC_Sources, AC_Sources = construct_matrices_AC(dim, A, B, X, comp, node_dict, freq)\n",
    "    \n",
    "    if DC_Sources>0 and AC_Sources>0:\n",
    "        print(\"The given circuit has more than 1 frequency and therefore it can't be solved using this method\")\n",
    "    else:\n",
    "        X = np.linalg.solve(A_final, B_final)\n",
    "        dim_virtual = 0\n",
    "        for i in inv_dict:\n",
    "            node_iterate = inv_dict[i]\n",
    "            dim_virtual += 1\n",
    "            complex_form = cmath.polar(X[i])\n",
    "            print(f\"The voltage at node {node_iterate} is {X[i]} whose magnitude is {complex_form[0]} and phase is {complex_form[1]*180/cmath.pi}\")\n",
    "\n",
    "        for i in range(dim_virtual, dim):\n",
    "            complex_form = cmath.polar(X[dim_virtual])\n",
    "            print(f\"The current through the voltage source {i-dim_virtual+1} is: {X[dim_virtual]} whose magnitude is {complex_form[0]} and phase is {complex_form[1]*180/cmath.pi}\")\n",
    "            dim_virtual += 1\n",
    "\n",
    "        print(\"\\n\")\n",
    "        return X"
   ]
  },
  {
   "cell_type": "markdown",
   "id": "5349dc93",
   "metadata": {},
   "source": [
    "This is the `final_AC` function, the combination of all the earlier defined functions, which performs an AC analysis on an electrical circuit. The function reads the circuit information from the netlist file and takes a filename as input. The function `read_netlist` AC is used to extract information from the circuit such as components, nodes, node mapping, and frequency. The `matrix_dim_AC` function is used to determine the dimension of the matrices A, B, and X required for circuit simulation. The `construct_matrices_AC` function modifies these matrices to reflect the behaviour of electrical circuit components. \n",
    "\n",
    "The resulting matrices are then used to solve for unknown voltages and currents in the circuit using the NumPy library's np.linalg.solve function."
   ]
  },
  {
   "cell_type": "code",
   "execution_count": 741,
   "id": "c1d10051",
   "metadata": {},
   "outputs": [
    {
     "name": "stdout",
     "output_type": "stream",
     "text": [
      "The components in this circuit are: [('R', 'GND', '1', '1e3'), ('R', '1', '2', '4e3'), ('R', '2', 'GND', '20e3'), ('R', '2', '3', '8e3'), ('R', 'GND', '4', '10e3'), ('V', 'GND', '4', '5')]\n",
      "\n",
      "The nodes in this circuit are: ['4', '3', '2', '1']\n",
      "\n",
      "The mapping of nodes is done by: {'4': 0, '3': 1, '2': 2, '1': 3}\n",
      "\n",
      "The dimension of matrix A is 5\n",
      "\n",
      "The voltage at node 4 is -5.0\n",
      "The voltage at node 3 is 0.0\n",
      "The voltage at node 2 is 0.0\n",
      "The voltage at node 1 is 0.0\n",
      "The current through the voltage source 1 is 0.0005\n",
      "\n",
      "\n",
      "The solution vector for the given circuit is [-5.e+00  0.e+00  0.e+00  0.e+00  5.e-04]\n"
     ]
    }
   ],
   "source": [
    "X = final(\"ckt1.netlist\")\n",
    "print(f\"The solution vector for the given circuit is {X}\")"
   ]
  },
  {
   "cell_type": "code",
   "execution_count": 742,
   "id": "b851ec54",
   "metadata": {},
   "outputs": [
    {
     "name": "stdout",
     "output_type": "stream",
     "text": [
      "The components in this circuit are: [('R', '1', 'GND', '1e3'), ('R', '1', '2', '2e3'), ('R', '2', '3', '4e3'), ('V', '3', 'GND', 'ac', '2', '0'), ('V', '2', '4', 'dc', '5'), ('R', '4', '5', '5e3'), ('I', '5', 'GND', 'dc', '1'), ('R', '4', '6', '8e3'), ('I', 'GND', '6', 'dc', '10')]\n",
      "\n",
      "The nodes in this circuit are: ['4', '3', '5', '1', '6', '2']\n",
      "\n",
      "The mapping of nodes is done by: {'4': 0, '3': 1, '5': 2, '1': 3, '6': 4, '2': 5}\n",
      "\n",
      "The frequency with which the AC source is operating is 50.0\n",
      "\n",
      "The dimension of matrix A is 8\n",
      "\n",
      "The given circuit has more than 1 frequency and therefore it can't be solved using this method\n",
      "The solution vector for the given circuit is None\n"
     ]
    }
   ],
   "source": [
    "X = final_AC(\"ckt2.netlist\")\n",
    "print(f\"The solution vector for the given circuit is {X}\")"
   ]
  },
  {
   "cell_type": "code",
   "execution_count": 743,
   "id": "00c0baa8",
   "metadata": {},
   "outputs": [
    {
     "name": "stdout",
     "output_type": "stream",
     "text": [
      "The components in this circuit are: [('V', 'GND', '1', '10'), ('R', '1', '2', '1e3'), ('R', '2', '3', '1e3'), ('R', '3', '4', '1e3'), ('R', '4', '5', '1e3'), ('R', '2', 'GND', '2e3'), ('R', '3', 'GND', '2e3'), ('R', '4', 'GND', '2e3'), ('R', '5', 'GND', '2e3')]\n",
      "\n",
      "The nodes in this circuit are: ['4', '3', '5', '2', '1']\n",
      "\n",
      "The mapping of nodes is done by: {'4': 0, '3': 1, '5': 2, '2': 3, '1': 4}\n",
      "\n",
      "The dimension of matrix A is 6\n",
      "\n",
      "The voltage at node 4 is -1.4035087719298245\n",
      "The voltage at node 3 is -2.573099415204678\n",
      "The voltage at node 5 is -0.9356725146198832\n",
      "The voltage at node 2 is -5.029239766081871\n",
      "The voltage at node 1 is -10.0\n",
      "The current through the voltage source 1 is 0.004970760233918128\n",
      "\n",
      "\n",
      "The solution vector for the given circuit is [-1.40350877e+00 -2.57309942e+00 -9.35672515e-01 -5.02923977e+00\n",
      " -1.00000000e+01  4.97076023e-03]\n"
     ]
    }
   ],
   "source": [
    "X = final(\"ckt3.netlist\")\n",
    "print(f\"The solution vector for the given circuit is {X}\")"
   ]
  },
  {
   "cell_type": "code",
   "execution_count": 744,
   "id": "3963cea5",
   "metadata": {},
   "outputs": [
    {
     "name": "stdout",
     "output_type": "stream",
     "text": [
      "The components in this circuit are: [('V', 'GND', '1', '10'), ('R', '1', '2', '2'), ('R', '2', 'GND', '3'), ('R', '2', '3', '5'), ('R', '3', 'GND', '10')]\n",
      "\n",
      "The nodes in this circuit are: ['3', '1', '2']\n",
      "\n",
      "The mapping of nodes is done by: {'3': 0, '1': 1, '2': 2}\n",
      "\n",
      "The dimension of matrix A is 4\n",
      "\n",
      "The voltage at node 3 is -3.703703703703704\n",
      "The voltage at node 1 is -10.0\n",
      "The voltage at node 2 is -5.555555555555556\n",
      "The current through the voltage source 1 is 2.2222222222222223\n",
      "\n",
      "\n",
      "The solution vector for the given circuit is [ -3.7037037  -10.          -5.55555556   2.22222222]\n"
     ]
    }
   ],
   "source": [
    "X = final(\"ckt4.netlist\")\n",
    "print(f\"The solution vector for the given circuit is {X}\")"
   ]
  },
  {
   "cell_type": "code",
   "execution_count": 745,
   "id": "39b08598",
   "metadata": {},
   "outputs": [
    {
     "name": "stdout",
     "output_type": "stream",
     "text": [
      "The components in this circuit are: [('R', 'GND', '1', '10'), ('V', 'GND', '1', '10')]\n",
      "\n",
      "The nodes in this circuit are: ['1']\n",
      "\n",
      "The mapping of nodes is done by: {'1': 0}\n",
      "\n",
      "The dimension of matrix A is 2\n",
      "\n",
      "The voltage at node 1 is -10.0\n",
      "The current through the voltage source 1 is 1.0\n",
      "\n",
      "\n",
      "The solution vector for the given circuit is [-10.   1.]\n"
     ]
    }
   ],
   "source": [
    "X = final(\"ckt5.netlist\")\n",
    "print(f\"The solution vector for the given circuit is {X}\")"
   ]
  },
  {
   "cell_type": "code",
   "execution_count": 749,
   "id": "587634c0",
   "metadata": {},
   "outputs": [
    {
     "name": "stdout",
     "output_type": "stream",
     "text": [
      "The components in this circuit are: [('V', 'GND', 'n3', 'ac', '5', '0'), ('C', 'n1', 'n2', '1'), ('R', 'n2', 'n3', '1000'), ('L', 'n1', 'GND', '1e-6')]\n",
      "\n",
      "The nodes in this circuit are: ['n2', 'n3', 'n1']\n",
      "\n",
      "The mapping of nodes is done by: {'n2': 0, 'n3': 1, 'n1': 2}\n",
      "\n",
      "The frequency with which the AC source is operating is 1000.0\n",
      "\n",
      "The dimension of matrix A is 4\n",
      "\n",
      "The voltage at node n2 is (-1.8751873949628018e-10-3.062015181929011e-05j) whose magnitude is 3.06201518198643e-05 and phase is -90.00035088109347\n",
      "The voltage at node n3 is (-5-0j) whose magnitude is 5.0 and phase is -180.0\n",
      "The voltage at node n1 is (-1.923920880164958e-10-3.1415926534719746e-05j) whose magnitude is 3.1415926535308854e-05 and phase is -90.00035088109347\n",
      "The current through the voltage source 1 is: (0.004999999999812482-3.0620151819290114e-08j) whose magnitude is 0.004999999999906241 and phase is -0.0003508810934678035\n",
      "\n",
      "\n",
      "The solution vector for the given circuit is [-1.87518739e-10-3.06201518e-05j -5.00000000e+00-0.00000000e+00j\n",
      " -1.92392088e-10-3.14159265e-05j  5.00000000e-03-3.06201518e-08j]\n"
     ]
    }
   ],
   "source": [
    "X = final_AC(\"ckt6.netlist\")\n",
    "print(f\"The solution vector for the given circuit is {X}\")"
   ]
  },
  {
   "cell_type": "code",
   "execution_count": 750,
   "id": "ddc36daa",
   "metadata": {},
   "outputs": [
    {
     "name": "stdout",
     "output_type": "stream",
     "text": [
      "The components in this circuit are: [('I', 'GND', 'n1', 'ac', '5', '0'), ('C', 'GND', 'n1', '1'), ('R', 'GND', 'n1', '1000'), ('L', 'GND', 'n1', '1e-6')]\n",
      "\n",
      "The nodes in this circuit are: ['n1']\n",
      "\n",
      "The mapping of nodes is done by: {'n1': 0}\n",
      "\n",
      "The frequency with which the AC source is operating is 1000.0\n",
      "\n",
      "The dimension of matrix A is 1\n",
      "\n",
      "The voltage at node n1 is (-1.3332000885000973e-10+0.0008164557820158241j) whose magnitude is 0.000816455782015835 and phase is 90.00000935589411\n",
      "\n",
      "\n",
      "The solution vector for the given circuit is [-1.33320009e-10+0.00081646j]\n"
     ]
    }
   ],
   "source": [
    "X = final_AC(\"ckt7.netlist\")\n",
    "print(f\"The solution vector for the given circuit is {X}\")"
   ]
  }
 ],
 "metadata": {
  "kernelspec": {
   "display_name": "Python 3 (ipykernel)",
   "language": "python",
   "name": "python3"
  },
  "language_info": {
   "codemirror_mode": {
    "name": "ipython",
    "version": 3
   },
   "file_extension": ".py",
   "mimetype": "text/x-python",
   "name": "python",
   "nbconvert_exporter": "python",
   "pygments_lexer": "ipython3",
   "version": "3.10.9"
  },
  "vscode": {
   "interpreter": {
    "hash": "135c9c029983d30fe2c25215b219c39403965bc9bf9257a46b5d1e1e22d97d61"
   }
  }
 },
 "nbformat": 4,
 "nbformat_minor": 5
}
